{
 "cells": [
  {
   "cell_type": "code",
   "execution_count": null,
   "id": "b44696b1",
   "metadata": {
    "scrolled": true
   },
   "outputs": [
    {
     "name": "stdout",
     "output_type": "stream",
     "text": [
      "Введите дату (для завершения введите 'q'): Daily News — Monday, 18 August 1977\n",
      "1977-08-18T00:00:00.000000\n",
      "Введите дату (для завершения введите 'q'): Daily News — Thursday, 18 August 1977\n",
      "1977-08-18T00:00:00.000000\n",
      "Введите дату (для завершения введите 'q'): Daily News — Thudsfdsfsfrsday, 18 August 1977\n",
      "Некорректный формат даты!\n",
      "Введите дату (для завершения введите 'q'): The Guardian — Friday, 11.10.13\n",
      "2013-10-11T00:00:00.000000\n",
      "Введите дату (для завершения введите 'q'): The Moscow Times — Wednesday, October 2, 2002\n",
      "2002-10-02T00:00:00.000000\n"
     ]
    }
   ],
   "source": [
    "import numpy as np\n",
    "from datetime import datetime\n",
    "\n",
    "while True:\n",
    "    try:\n",
    "        date = input(\"Введите дату (для завершения введите 'q'): \")\n",
    "        if date == 'q':\n",
    "            break\n",
    "        \n",
    "        if \"The Moscow Times\" in date:\n",
    "            resdate = date[19: ]\n",
    "            resdate = datetime.strptime(resdate, '%A, %B %d, %Y')\n",
    "            print(np.datetime64(resdate))\n",
    "        \n",
    "        elif \"The Guardian\" in date:\n",
    "            format_string = \"The Guardian — %A, %d.%m.%y\"\n",
    "            date = datetime.strptime(date, format_string)\n",
    "            print(np.datetime64(date))\n",
    "        \n",
    "        elif \"Daily News\" in date:\n",
    "            resdate=date[13: ]\n",
    "            date = datetime.strptime(resdate, '%A, %d %B %Y')\n",
    "            print(np.datetime64(date))\n",
    "\n",
    "    except:The Guardian — Friday, 11.10.13\n",
    "        print(\"Некорректный формат даты!\")"
   ]
  }
 ],
 "metadata": {
  "kernelspec": {
   "display_name": "Python 3 (ipykernel)",
   "language": "python",
   "name": "python3"
  },
  "language_info": {
   "codemirror_mode": {
    "name": "ipython",
    "version": 3
   },
   "file_extension": ".py",
   "mimetype": "text/x-python",
   "name": "python",
   "nbconvert_exporter": "python",
   "pygments_lexer": "ipython3",
   "version": "3.11.5"
  }
 },
 "nbformat": 4,
 "nbformat_minor": 5
}
